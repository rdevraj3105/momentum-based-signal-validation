{
 "cells": [
  {
   "cell_type": "markdown",
   "id": "678a3fee-dedf-457c-959e-b62d07390805",
   "metadata": {},
   "source": [
    "# Momentum-Based Signal Validation\n",
    "\n"
   ]
  },
  {
   "cell_type": "code",
   "execution_count": 130,
   "id": "718de208-d7b1-4391-911b-30e18bdd6735",
   "metadata": {},
   "outputs": [],
   "source": [
    "import pandas as pd\n",
    "import numpy as np\n",
    "import matplotlib.pyplot as plt\n",
    "import seaborn as sns\n",
    "from datetime import datetime, timedelta\n",
    "import warnings\n",
    "import yfinance as yf"
   ]
  },
  {
   "cell_type": "code",
   "execution_count": 131,
   "id": "562f1409-3cc5-42d3-9067-93ea49efd3e6",
   "metadata": {},
   "outputs": [],
   "source": [
    "# Statistical libraries\n",
    "from scipy import stats\n",
    "from scipy.stats import jarque_bera, shapiro, normaltest\n",
    "from sklearn.model_selection import TimeSeriesSplit, cross_val_score\n",
    "from sklearn.preprocessing import StandardScaler\n",
    "from sklearn.ensemble import RandomForestRegressor\n",
    "from sklearn.linear_model import LinearRegression\n",
    "from sklearn.metrics import mean_squared_error, r2_score\n",
    "\n",
    "plt.style.use('seaborn-v0_8')\n",
    "sns.set_palette(\"husl\")\n",
    "np.random.seed(42)"
   ]
  },
  {
   "cell_type": "code",
   "execution_count": 132,
   "id": "095233dc",
   "metadata": {},
   "outputs": [
    {
     "name": "stderr",
     "output_type": "stream",
     "text": [
      "/var/folders/wb/jhyg6q791mj15523rmpw4r1m0000gp/T/ipykernel_914/3367302652.py:1: FutureWarning: YF.download() has changed argument auto_adjust default to True\n",
      "  data = yf.download(\"AMZN AAPL GOOG\",start=\"2020-01-01\", end=\"2023-01-01\").head()\n",
      "[*********************100%***********************]  3 of 3 completed"
     ]
    },
    {
     "name": "stdout",
     "output_type": "stream",
     "text": [
      "0\n"
     ]
    },
    {
     "name": "stderr",
     "output_type": "stream",
     "text": [
      "\n"
     ]
    }
   ],
   "source": [
    "data = yf.download(\"AMZN AAPL GOOG\",start=\"2020-01-01\", end=\"2023-01-01\").head()\n",
    "missing_values = data.isnull().sum().sum()\n",
    "print(missing_values)\n"
   ]
  },
  {
   "cell_type": "code",
   "execution_count": null,
   "id": "a89d70b7",
   "metadata": {},
   "outputs": [],
   "source": []
  },
  {
   "cell_type": "markdown",
   "id": "c94c6ef5",
   "metadata": {},
   "source": [
    "*** Data Collection ***"
   ]
  },
  {
   "cell_type": "code",
   "execution_count": 133,
   "id": "f50a1355",
   "metadata": {},
   "outputs": [],
   "source": [
    "\n",
    "def get_stock_data(tickers, start_date = '2020-01-01', end_date = '2024-07-01'):\n",
    "    stock_data = {}\n",
    "    for ticker in tickers:\n",
    "        data = yf.download(ticker, start= start_date, end = end_date)\n",
    "\n",
    "        if len(data) > 0:\n",
    "            stock_data[ticker] = data\n",
    "        else:\n",
    "            print(\"No data found\")\n",
    "\n",
    "    return stock_data\n",
    "\n",
    "def quality_check(data, ticker):\n",
    "    # Check quality of data for one stock\n",
    "    # data = data.xs(ticker, axis=1, level=1)\n",
    "    total_days = len(data)\n",
    "    missing_values = data.isnull().sum().sum()\n",
    "\n",
    "    zero_volume_days = (data['Volume'] == 0).sum()\n",
    "\n",
    "    daily_returns = data['Close'].pct_change()\n",
    "    extreme_moves = (abs(daily_returns) > 0.2).sum()\n",
    "\n",
    "    print(f\"{ticker}:\")\n",
    "    print(f\"Total observations: {total_days}\")\n",
    "    print(f\"Missing values: {missing_values}\")\n",
    "    print(f\"Zero volume days: {zero_volume_days}\")\n",
    "    print(f\"Extreme moves (>20%): {extreme_moves}\")\n",
    "\n",
    "    return {\n",
    "        'total_days': total_days,\n",
    "        'missing_values': missing_values,\n",
    "        'zero_volume': zero_volume_days,\n",
    "        'extreme_moves': extreme_moves\n",
    "    }\n",
    "\n",
    "\n",
    "def analyze_returns_stats(data, ticker):\n",
    "    print(\"Return Statistics for \" + ticker)\n",
    "    returns = data['Close'].pct_change().dropna()\n",
    "\n",
    "    # basic stats\n",
    "\n",
    "    mean_return = float(returns.mean())\n",
    "    volatility = float(returns.std())\n",
    "    annual_return = mean_return * 252\n",
    "    annual_vol = volatility * np.sqrt(252)\n",
    "\n",
    "\n",
    "    print(f\"Daily return: {mean_return:.4f} ({annual_return:.2%} annualized)\")\n",
    "    print(f\"Daily volatility: {volatility:.4f} ({annual_vol:.2%} annualized)\")\n",
    "    print(f\"Skewness: {float(returns.skew()):.3f}\")\n",
    "    print(f\"Kurtosis: {float(returns.kurtosis()):.3f}\")\n",
    "\n",
    "    \n",
    "    #Test for normality\n",
    "    jb_stat, jb_pvalue = jarque_bera(returns)\n",
    "\n",
    "    print(f\"*** Normality Test ***\")\n",
    "    print(f\"Jarque Bera p-value: {jb_pvalue:.6f}\")\n",
    "    if jb_pvalue >= 0.05:\n",
    "        print(\"Returns are normal\")\n",
    "    else:\n",
    "        print('Returns are NOT normal')\n",
    "\n",
    "    return returns\n",
    "\n",
    "\n",
    "\n",
    "    \n",
    "\n",
    "\n"
   ]
  },
  {
   "cell_type": "markdown",
   "id": "87134a11",
   "metadata": {},
   "source": [
    "*** Feature Engineering, Creating Momentum Signals ***\n",
    "- Main Idea: stocks that have been going up, might continue going up"
   ]
  },
  {
   "cell_type": "code",
   "execution_count": 148,
   "id": "268d66b1",
   "metadata": {},
   "outputs": [],
   "source": [
    "def create_momentum_features(data):\n",
    "    df = data.copy()\n",
    "    #one day returns\n",
    "    df['returns_1d'] = df['Close'].pct_change()\n",
    "\n",
    "    #momentum periods of one week, 2 weeks, 1 month, 3 months\n",
    "    momentum_periods = [5, 10, 20, 60]\n",
    "\n",
    "    for period in momentum_periods:\n",
    "        df[f'momentum_{period}d'] = df['Close'].pct_change(period)\n",
    "\n",
    "    # moving averages\n",
    "    ma_periods = [10, 20, 50]\n",
    "    for period in ma_periods:\n",
    "        df[f'sma_{period}d'] = df['Close'].pct_change(period).mean()\n",
    "        df[f'above_sma_{period}'] =  (df['Close'] > df[f'sma_{period}']).astype(int)\n",
    "        print(period + \"--day moving average signal\")\n",
    "\n",
    "    # volatility\n",
    "\n",
    "    df['vol_10d'] = df['returns_1d'].rolling(10).std()\n",
    "    df['vol_20d'] = df['returns_1d'].rolling(20).std()\n",
    "    print(\"***Volatility features***\")\n",
    "\n",
    "    # RSI - Relative Strength Index - momentum oscillator\n",
    "    def calculate_rsi(prices, window = 14):\n",
    "        delta = prices.diff()\n",
    "        gain = (delta.where(delta > 0, 0)).rolling(window = window).mean()\n",
    "        loss = (-delta.where(delta < 0, 0)).rolling(window = window).mean()\n",
    "        rs = gain/loss\n",
    "        rsi = 100 - (100 / (1 + rs))\n",
    "        return rsi\n",
    "\n",
    "    df['rsi'] = calculate_rsi(df['Close'])\n",
    "    df['rsi_oversold'] = calculate_rsi(df['Close'] < 30).astype(int)\n",
    "    df['rsi_undersold'] = calculate_rsi(df['close'] > 70).astype(int)\n",
    "\n",
    "    print(\"*** RSI momentum indicator ***\")\n",
    "\n",
    "    df['vol_sma_20'] = df['Volume'].rolling(20).mean()\n",
    "    df['volume_ratio'] = df['Volume'] / df['volume_sma_20']\n",
    "    df['high_volume'] = (df['volume_ratio'] > 1.5).astype(int)\n",
    "    print(\"*** Volume Features ***\")\n",
    "    \n",
    "    print(f\"\\n There are {len([col for col in df.columns if col not in data.columns])} new features created\\n\")\n",
    "\n",
    "    return df\n",
    "\n",
    "\n",
    "    \n"
   ]
  },
  {
   "cell_type": "code",
   "execution_count": 149,
   "id": "b0da9d03",
   "metadata": {},
   "outputs": [],
   "source": [
    "def create_target_variable(data, forward_days = 5):\n",
    "    print(\"Creating target: {forward_days}-day forward return\")\n",
    "    target = data['Close'].pct_change(forward_days).shift(-forward_days)\n",
    "\n",
    "    print(f\"Target mean: {target.mean():.4f}\")\n",
    "    print(f\"Target std: {target.std():.4f}\")\n",
    "    print(f\"Valid predictions: {target.count()}\\n\")"
   ]
  },
  {
   "cell_type": "code",
   "execution_count": null,
   "id": "8f301a5d",
   "metadata": {},
   "outputs": [],
   "source": []
  },
  {
   "cell_type": "code",
   "execution_count": null,
   "id": "ce2719b5",
   "metadata": {},
   "outputs": [],
   "source": []
  },
  {
   "cell_type": "code",
   "execution_count": 147,
   "id": "61127d78",
   "metadata": {},
   "outputs": [
    {
     "name": "stderr",
     "output_type": "stream",
     "text": [
      "/var/folders/wb/jhyg6q791mj15523rmpw4r1m0000gp/T/ipykernel_914/2695645430.py:4: FutureWarning: YF.download() has changed argument auto_adjust default to True\n",
      "  data = yf.download(ticker, start= start_date, end = end_date)\n",
      "[*********************100%***********************]  1 of 1 completed\n",
      "/var/folders/wb/jhyg6q791mj15523rmpw4r1m0000gp/T/ipykernel_914/2695645430.py:4: FutureWarning: YF.download() has changed argument auto_adjust default to True\n",
      "  data = yf.download(ticker, start= start_date, end = end_date)\n",
      "[*********************100%***********************]  1 of 1 completed\n",
      "/var/folders/wb/jhyg6q791mj15523rmpw4r1m0000gp/T/ipykernel_914/2695645430.py:4: FutureWarning: YF.download() has changed argument auto_adjust default to True\n",
      "  data = yf.download(ticker, start= start_date, end = end_date)\n",
      "[*********************100%***********************]  1 of 1 completed\n",
      "/var/folders/wb/jhyg6q791mj15523rmpw4r1m0000gp/T/ipykernel_914/2695645430.py:4: FutureWarning: YF.download() has changed argument auto_adjust default to True\n",
      "  data = yf.download(ticker, start= start_date, end = end_date)\n",
      "[*********************100%***********************]  1 of 1 completed\n",
      "/var/folders/wb/jhyg6q791mj15523rmpw4r1m0000gp/T/ipykernel_914/2695645430.py:4: FutureWarning: YF.download() has changed argument auto_adjust default to True\n",
      "  data = yf.download(ticker, start= start_date, end = end_date)\n",
      "[*********************100%***********************]  1 of 1 completed"
     ]
    },
    {
     "name": "stdout",
     "output_type": "stream",
     "text": [
      "Price            Close        High         Low        Open     Volume\n",
      "Ticker            NVDA        NVDA        NVDA        NVDA       NVDA\n",
      "Date                                                                 \n",
      "2020-01-02    5.971747    5.971747    5.892343    5.942873  237536000\n",
      "2020-01-03    5.876164    5.919973    5.827127    5.852019  205384000\n",
      "2020-01-06    5.900805    5.906032    5.756682    5.782819  262636000\n",
      "2020-01-07    5.972246    6.018046    5.884129    5.929183  314856000\n",
      "2020-01-08    5.983446    6.024766    5.927937    5.968013  277108000\n",
      "...                ...         ...         ...         ...        ...\n",
      "2024-06-24  118.072693  124.420686  118.002715  123.201070  476060900\n",
      "2024-06-25  126.050171  126.460045  119.282313  121.161716  414192600\n",
      "2024-06-26  126.360077  128.079527  122.561274  126.090158  362975900\n",
      "2024-06-27  123.950844  126.370085  122.881182  124.060810  252571700\n",
      "2024-06-28  123.500984  127.669665  122.711233  124.540657  315516700\n",
      "\n",
      "[1130 rows x 5 columns]\n",
      "NVDA:\n",
      "Total observations: 1130\n",
      "Missing values: 0\n",
      "Zero volume days: Ticker\n",
      "NVDA    0\n",
      "dtype: int64\n",
      "Extreme moves (>20%): Ticker\n",
      "NVDA    1\n",
      "dtype: int64\n",
      "Return Statistics for NVDA\n",
      "Daily return: 0.0033 (82.17% annualized)\n",
      "Daily volatility: 0.0341 (54.07% annualized)\n",
      "Skewness: 0.446\n",
      "Kurtosis: 4.267\n",
      "*** Normality Test ***\n",
      "Jarque Bera p-value: 0.000000\n",
      "Returns are NOT normal\n"
     ]
    },
    {
     "name": "stderr",
     "output_type": "stream",
     "text": [
      "\n",
      "/var/folders/wb/jhyg6q791mj15523rmpw4r1m0000gp/T/ipykernel_914/2695645430.py:44: FutureWarning: Calling float on a single element Series is deprecated and will raise a TypeError in the future. Use float(ser.iloc[0]) instead\n",
      "  mean_return = float(returns.mean())\n",
      "/var/folders/wb/jhyg6q791mj15523rmpw4r1m0000gp/T/ipykernel_914/2695645430.py:45: FutureWarning: Calling float on a single element Series is deprecated and will raise a TypeError in the future. Use float(ser.iloc[0]) instead\n",
      "  volatility = float(returns.std())\n",
      "/var/folders/wb/jhyg6q791mj15523rmpw4r1m0000gp/T/ipykernel_914/2695645430.py:52: FutureWarning: Calling float on a single element Series is deprecated and will raise a TypeError in the future. Use float(ser.iloc[0]) instead\n",
      "  print(f\"Skewness: {float(returns.skew()):.3f}\")\n",
      "/var/folders/wb/jhyg6q791mj15523rmpw4r1m0000gp/T/ipykernel_914/2695645430.py:53: FutureWarning: Calling float on a single element Series is deprecated and will raise a TypeError in the future. Use float(ser.iloc[0]) instead\n",
      "  print(f\"Kurtosis: {float(returns.kurtosis()):.3f}\")\n"
     ]
    }
   ],
   "source": [
    "tickers = ['AAPL', 'TSLA', 'GOOG', 'NVDA', 'MSFT']\n",
    "\n",
    "stock_data = get_stock_data(tickers)\n",
    "\n",
    "\n",
    "main_ticker = list(stock_data.keys())[3]\n",
    "\n",
    "data = stock_data[main_ticker]\n",
    "print(data)\n",
    "\n",
    "quality_report = quality_check(data, main_ticker)\n",
    "    \n",
    "returns = analyze_returns_stats(data, main_ticker)\n"
   ]
  },
  {
   "cell_type": "code",
   "execution_count": null,
   "id": "8c864af6",
   "metadata": {},
   "outputs": [
    {
     "name": "stdout",
     "output_type": "stream",
     "text": [
      "Rolling [window=2,center=False,axis=0,method=single]\n"
     ]
    }
   ],
   "source": []
  },
  {
   "cell_type": "code",
   "execution_count": null,
   "id": "03e2995f",
   "metadata": {},
   "outputs": [],
   "source": []
  },
  {
   "cell_type": "code",
   "execution_count": null,
   "id": "933e81cc",
   "metadata": {},
   "outputs": [],
   "source": [
    "\n"
   ]
  }
 ],
 "metadata": {
  "kernelspec": {
   "display_name": "base",
   "language": "python",
   "name": "python3"
  },
  "language_info": {
   "codemirror_mode": {
    "name": "ipython",
    "version": 3
   },
   "file_extension": ".py",
   "mimetype": "text/x-python",
   "name": "python",
   "nbconvert_exporter": "python",
   "pygments_lexer": "ipython3",
   "version": "3.12.2"
  }
 },
 "nbformat": 4,
 "nbformat_minor": 5
}
